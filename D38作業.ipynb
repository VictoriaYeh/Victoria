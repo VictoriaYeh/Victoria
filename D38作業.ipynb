{
 "cells": [
  {
   "cell_type": "markdown",
   "metadata": {},
   "source": [
    "## 作業\n",
    "在鐵達尼資料集中，\n",
    "透過進階補值方法 KNN，將鐵達尼號中的 Titanic_train\n",
    ".csv 中的 age 的遺失值進行補值。    \n",
    "* step1: 觀察 Age 和 Pclass 與 Sex 是否有關連性?\n",
    "* step2: 如果有關連性，運用 KNN ，取出 Age 、 Pclass、 Sex的資料，以 Sex 與 Pclass 補 Age 遺失值。 "
   ]
  },
  {
   "cell_type": "code",
   "execution_count": 1,
   "metadata": {
    "colab": {
     "base_uri": "https://localhost:8080/",
     "height": 34
    },
    "colab_type": "code",
    "executionInfo": {
     "elapsed": 1558,
     "status": "ok",
     "timestamp": 1578021044012,
     "user": {
      "displayName": "Mora chen",
      "photoUrl": "https://lh3.googleusercontent.com/a-/AAuE7mB40f7sDArbZ5_DYq02nNcnLD0Ryaf7AhsASSQeLQ=s64",
      "userId": "03171203089166907199"
     },
     "user_tz": -480
    },
    "id": "yz28_IgkYdBW",
    "outputId": "a12f486c-18b3-4fb5-d06c-f162aebd9444"
   },
   "outputs": [],
   "source": [
    "# import library\n",
    "import matplotlib.pyplot as plt\n",
    "import numpy as np\n",
    "import pandas as pd\n",
    "from scipy import stats\n",
    "import math\n",
    "import statistics\n",
    "import seaborn as sns\n",
    "from IPython.display import display"
   ]
  },
  {
   "cell_type": "markdown",
   "metadata": {},
   "source": [
    "## 讀入資料"
   ]
  },
  {
   "cell_type": "code",
   "execution_count": 3,
   "metadata": {},
   "outputs": [
    {
     "name": "stdout",
     "output_type": "stream",
     "text": [
      "   PassengerId  Survived  Pclass  \\\n",
      "0            1         0       3   \n",
      "1            2         1       1   \n",
      "2            3         1       3   \n",
      "3            4         1       1   \n",
      "4            5         0       3   \n",
      "\n",
      "                                                Name     Sex   Age  SibSp  \\\n",
      "0                            Braund, Mr. Owen Harris    male  22.0      1   \n",
      "1  Cumings, Mrs. John Bradley (Florence Briggs Th...  female  38.0      1   \n",
      "2                             Heikkinen, Miss. Laina  female  26.0      0   \n",
      "3       Futrelle, Mrs. Jacques Heath (Lily May Peel)  female  35.0      1   \n",
      "4                           Allen, Mr. William Henry    male  35.0      0   \n",
      "\n",
      "   Parch            Ticket     Fare Cabin Embarked  \n",
      "0      0         A/5 21171   7.2500   NaN        S  \n",
      "1      0          PC 17599  71.2833   C85        C  \n",
      "2      0  STON/O2. 3101282   7.9250   NaN        S  \n",
      "3      0            113803  53.1000  C123        S  \n",
      "4      0            373450   8.0500   NaN        S  \n"
     ]
    }
   ],
   "source": [
    "data = pd.read_csv(\"./Titanic_train.csv\")\n",
    "print(data.head())"
   ]
  },
  {
   "cell_type": "markdown",
   "metadata": {},
   "source": [
    "## 觀察 Age"
   ]
  },
  {
   "cell_type": "code",
   "execution_count": 5,
   "metadata": {},
   "outputs": [
    {
     "name": "stdout",
     "output_type": "stream",
     "text": [
      "PassengerId    0.000000\n",
      "Survived       0.000000\n",
      "Pclass         0.000000\n",
      "Name           0.000000\n",
      "Sex            0.000000\n",
      "Age            0.198653\n",
      "SibSp          0.000000\n",
      "Parch          0.000000\n",
      "Ticket         0.000000\n",
      "Fare           0.000000\n",
      "Cabin          0.771044\n",
      "Embarked       0.002245\n",
      "dtype: float64\n",
      "             missing_rate\n",
      "PassengerId      0.000000\n",
      "Survived         0.000000\n",
      "Pclass           0.000000\n",
      "Name             0.000000\n",
      "Sex              0.000000\n",
      "Age              0.198653\n",
      "SibSp            0.000000\n",
      "Parch            0.000000\n",
      "Ticket           0.000000\n",
      "Fare             0.000000\n",
      "Cabin            0.771044\n",
      "Embarked         0.002245\n"
     ]
    }
   ],
   "source": [
    "#計算每一行是否有遺失值，計算遺失比例\n",
    "missing_vals = data.isnull().sum()/len(data)\n",
    "print(missing_vals)\n",
    "missing_vals.sort_values(ascending=False)\n",
    "missing_vals = pd.DataFrame(missing_vals,columns=['missing_rate'])\n",
    "print(missing_vals)"
   ]
  },
  {
   "cell_type": "code",
   "execution_count": 6,
   "metadata": {},
   "outputs": [
    {
     "data": {
      "image/png": "[encoded data removed]",
      "text/plain": [
       "<Figure size 432x288 with 1 Axes>"
      ]
     },
     "metadata": {
      "needs_background": "light"
     },
     "output_type": "display_data"
    }
   ],
   "source": [
    "# 觀察資料\n",
    "# 性別和年紀的關係\n",
    "g = sns.boxplot(x=\"Pclass\", y=\"Age\", hue=\"Sex\",\n",
    "               data=data)\n",
    "plt.show()"
   ]
  },
  {
   "cell_type": "code",
   "execution_count": 7,
   "metadata": {},
   "outputs": [
    {
     "name": "stderr",
     "output_type": "stream",
     "text": [
      "D:\\Anaconda\\lib\\site-packages\\seaborn\\_decorators.py:36: FutureWarning: Pass the following variable as a keyword arg: x. From version 0.12, the only valid positional argument will be `data`, and passing other arguments without an explicit keyword will result in an error or misinterpretation.\n",
      "  warnings.warn(\n"
     ]
    },
    {
     "data": {
      "image/png": "[encoded data removed]",
      "text/plain": [
       "<Figure size 144x180 with 1 Axes>"
      ]
     },
     "metadata": {
      "needs_background": "light"
     },
     "output_type": "display_data"
    }
   ],
   "source": [
    "#男生女生個數\n",
    "g = sns.catplot(\"Sex\",data=data,kind=\"count\", height=2.5, aspect=.8)\n",
    "plt.show()"
   ]
  },
  {
   "cell_type": "code",
   "execution_count": 8,
   "metadata": {},
   "outputs": [
    {
     "name": "stderr",
     "output_type": "stream",
     "text": [
      "D:\\Anaconda\\lib\\site-packages\\seaborn\\_decorators.py:36: FutureWarning: Pass the following variables as keyword args: x, y. From version 0.12, the only valid positional argument will be `data`, and passing other arguments without an explicit keyword will result in an error or misinterpretation.\n",
      "  warnings.warn(\n"
     ]
    },
    {
     "data": {
      "image/png": "[encoded data removed]",
      "text/plain": [
       "<Figure size 144x180 with 1 Axes>"
      ]
     },
     "metadata": {
      "needs_background": "light"
     },
     "output_type": "display_data"
    }
   ],
   "source": [
    "#男生女生中年齡分布\n",
    "g = sns.catplot(\"Sex\",'Age',data=data,kind=\"box\", height=2.5, aspect=.8)\n",
    "plt.show()"
   ]
  },
  {
   "cell_type": "code",
   "execution_count": 10,
   "metadata": {},
   "outputs": [
    {
     "name": "stdout",
     "output_type": "stream",
     "text": [
      "0      1\n",
      "1      0\n",
      "2      0\n",
      "3      0\n",
      "4      1\n",
      "      ..\n",
      "886    1\n",
      "887    0\n",
      "888    0\n",
      "889    1\n",
      "890    1\n",
      "Name: Sex, Length: 891, dtype: int64\n",
      "           0          1          2          3          4         5    \\\n",
      "0     0.000000  16.155494   4.123106  13.190906  13.000000  0.000000   \n",
      "1    16.155494   0.000000  12.165525   3.000000   3.741657  2.738613   \n",
      "2     4.123106  12.165525   0.000000   9.219544   9.055385  1.224745   \n",
      "3    13.190906   3.000000   9.219544   0.000000   2.236068  2.738613   \n",
      "4    13.000000   3.741657   9.055385   2.236068   0.000000  0.000000   \n",
      "..         ...        ...        ...        ...        ...       ...   \n",
      "886   5.099020  11.090537   1.732051   8.124038   8.062258  1.224745   \n",
      "887   3.741657  19.000000   7.280110  16.000000  16.155494  2.738613   \n",
      "888   1.224745   2.449490   0.000000   2.449490   1.224745  1.224745   \n",
      "889   4.472136  12.041595   2.236068   9.055385   9.219544  2.449490   \n",
      "890  10.000000   6.403124   6.082763   3.741657   3.000000  0.000000   \n",
      "\n",
      "           6          7          8          9    ...        881        882  \\\n",
      "0    32.062439  20.000000   5.099020   8.124038  ...  11.000000   1.000000   \n",
      "1    16.031220  36.069378  11.180340  24.020824  ...   5.477226  16.124515   \n",
      "2    28.089144  24.020824   1.000000  12.041595  ...   7.071068   4.000000   \n",
      "3    19.026298  33.075671   8.246211  21.023796  ...   3.000000  13.152946   \n",
      "4    19.104973  33.000000   8.062258  21.047565  ...   2.000000  13.038405   \n",
      "..         ...        ...        ...        ...  ...        ...        ...   \n",
      "886  27.018512  25.019992   1.414214  13.038405  ...   6.082763   5.196152   \n",
      "887  35.014283  17.146428   8.246211   5.099020  ...  14.177447   3.605551   \n",
      "888   2.738613   1.224745   0.000000   1.224745  ...   1.224745   0.000000   \n",
      "889  28.000000  24.083189   2.449490  12.083046  ...   7.280110   4.582576   \n",
      "890  22.090722  30.000000   5.099020  18.055470  ...   1.000000  10.049876   \n",
      "\n",
      "           883        884        885        886        887       888  \\\n",
      "0     6.082763   3.000000  17.029386   5.099020   3.741657  1.224745   \n",
      "1    10.099505  13.190906   2.236068  11.090537  19.000000  2.449490   \n",
      "2     2.449490   1.414214  13.000000   1.732051   7.280110  0.000000   \n",
      "3     7.141428  10.246951   4.472136   8.124038  16.000000  2.449490   \n",
      "4     7.071068  10.000000   4.123106   8.062258  16.155494  1.224745   \n",
      "..         ...        ...        ...        ...        ...       ...   \n",
      "886   1.000000   2.236068  12.083046   0.000000   8.124038  1.732051   \n",
      "887   9.110434   6.403124  20.099751   8.124038   0.000000  2.449490   \n",
      "888   1.732051   1.224745   0.000000   1.732051   2.449490  0.000000   \n",
      "889   2.236068   2.236068  13.190906   1.414214   7.071068  2.738613   \n",
      "890   4.123106   7.000000   7.071068   5.099020  13.190906  1.224745   \n",
      "\n",
      "           889        890  \n",
      "0     4.472136  10.000000  \n",
      "1    12.041595   6.403124  \n",
      "2     2.236068   6.082763  \n",
      "3     9.055385   3.741657  \n",
      "4     9.219544   3.000000  \n",
      "..         ...        ...  \n",
      "886   1.414214   5.099020  \n",
      "887   7.071068  13.190906  \n",
      "888   2.738613   1.224745  \n",
      "889   0.000000   6.324555  \n",
      "890   6.324555   0.000000  \n",
      "\n",
      "[891 rows x 891 columns]\n"
     ]
    },
    {
     "name": "stderr",
     "output_type": "stream",
     "text": [
      "<ipython-input-10-ea8c5e214a05>:3: SettingWithCopyWarning: \n",
      "A value is trying to be set on a copy of a slice from a DataFrame.\n",
      "Try using .loc[row_indexer,col_indexer] = value instead\n",
      "\n",
      "See the caveats in the documentation: https://pandas.pydata.org/pandas-docs/stable/user_guide/indexing.html#returning-a-view-versus-a-copy\n",
      "  data['Sex']= le.fit_transform(data['Sex'])\n"
     ]
    }
   ],
   "source": [
    "from sklearn import preprocessing\n",
    "le = preprocessing.LabelEncoder()\n",
    "data['Sex']= le.fit_transform(data['Sex'])\n",
    "print(data['Sex'])\n",
    "data = data[['Pclass','Sex','Age']]\n",
    "from sklearn.metrics.pairwise import nan_euclidean_distances\n",
    "print(pd.DataFrame(nan_euclidean_distances(data)))"
   ]
  },
  {
   "cell_type": "code",
   "execution_count": 11,
   "metadata": {},
   "outputs": [
    {
     "name": "stdout",
     "output_type": "stream",
     "text": [
      "       0    1      2    3\n",
      "0    3.0  1.0  22.00  0.0\n",
      "1    1.0  0.0  38.00  0.0\n",
      "2    3.0  0.0  26.00  0.0\n",
      "3    1.0  0.0  35.00  0.0\n",
      "4    3.0  1.0  35.00  0.0\n",
      "..   ...  ...    ...  ...\n",
      "886  2.0  1.0  27.00  0.0\n",
      "887  1.0  0.0  19.00  0.0\n",
      "888  3.0  0.0  13.95  1.0\n",
      "889  1.0  1.0  26.00  0.0\n",
      "890  3.0  1.0  32.00  0.0\n",
      "\n",
      "[891 rows x 4 columns]\n",
      "0    False\n",
      "1    False\n",
      "2    False\n",
      "3    False\n",
      "dtype: bool\n"
     ]
    },
    {
     "data": {
      "image/png": "[encoded data removed]",
      "text/plain": [
       "<Figure size 432x288 with 1 Axes>"
      ]
     },
     "metadata": {
      "needs_background": "light"
     },
     "output_type": "display_data"
    }
   ],
   "source": [
    "k = 5\n",
    "from sklearn.impute import KNNImputer\n",
    "imputer = KNNImputer(n_neighbors=k, add_indicator = True, weights = 'uniform')\n",
    "df_filled = pd.DataFrame(imputer.fit_transform(data))\n",
    "print(df_filled)\n",
    "print(df_filled.isnull().any()) # 檢查都沒有遺失值\n",
    "df_filled.rename(columns={0:'Pclass', 1:'Sex', 2:'Age',3:'imputer.Age'}, inplace = True)\n",
    "sns.boxplot(x='Pclass', y='Age',hue='Sex', data=df_filled)\n",
    "plt.show()"
   ]
  },
  {
   "cell_type": "code",
   "execution_count": 12,
   "metadata": {},
   "outputs": [
    {
     "name": "stdout",
     "output_type": "stream",
     "text": [
      "       0       1      2    3\n",
      "0    3.0     0.0  22.00  0.0\n",
      "1    1.0  1000.0  38.00  0.0\n",
      "2    3.0  1000.0  26.00  0.0\n",
      "3    1.0  1000.0  35.00  0.0\n",
      "4    3.0     0.0  35.00  0.0\n",
      "..   ...     ...    ...  ...\n",
      "886  2.0     0.0  27.00  0.0\n",
      "887  1.0  1000.0  19.00  0.0\n",
      "888  3.0  1000.0  15.75  1.0\n",
      "889  1.0     0.0  26.00  0.0\n",
      "890  3.0     0.0  32.00  0.0\n",
      "\n",
      "[891 rows x 4 columns]\n"
     ]
    },
    {
     "data": {
      "image/png": "[encoded data removed]",
      "text/plain": [
       "<Figure size 432x288 with 1 Axes>"
      ]
     },
     "metadata": {
      "needs_background": "light"
     },
     "output_type": "display_data"
    }
   ],
   "source": [
    "# sex 類別- 類別資料轉換對於 KNN 的影響\n",
    "data = pd.read_csv(\"Titanic_train.csv\")\n",
    "data['Sex'].replace({'male':0, 'female':1000},inplace = True)\n",
    "data = data[['Pclass','Sex','Age']]\n",
    "K=5\n",
    "imputer = KNNImputer(n_neighbors = K, add_indicator = True, weights = 'uniform')\n",
    "df_filled = pd.DataFrame(imputer.fit_transform(data))\n",
    "print(df_filled)\n",
    "df_filled.rename(columns={0:'Pclass', 1:'Sex', 2:'Age',3:'imputer.Age'}, inplace = True)\n",
    "sns.boxplot(x='Pclass', y='Age',hue='Sex', data=df_filled)\n",
    "plt.show()"
   ]
  },
  {
   "cell_type": "code",
   "execution_count": 13,
   "metadata": {},
   "outputs": [
    {
     "name": "stdout",
     "output_type": "stream",
     "text": [
      "0      1\n",
      "1      0\n",
      "2      0\n",
      "3      0\n",
      "4      1\n",
      "      ..\n",
      "886    1\n",
      "887    0\n",
      "888    0\n",
      "889    1\n",
      "890    1\n",
      "Name: Sex, Length: 891, dtype: int32\n"
     ]
    }
   ],
   "source": [
    "# 判斷補值的好壞?\n",
    "# Step1:取無遺失值的資料集\n",
    "# Step2:隨機取幾個資料點，當作遺失值\n",
    "# Step3:以step2產生的遺失值進行補值\n",
    "# Step4: 計算MSE看補值的效果。\n",
    "data = pd.read_csv(\"Titanic_train.csv\")\n",
    "from sklearn import preprocessing\n",
    "le = preprocessing.LabelEncoder()\n",
    "data['Sex']= le.fit_transform(data['Sex'])\n",
    "print(data['Sex'])\n",
    "data = data[['Pclass','Sex','Age']]"
   ]
  },
  {
   "cell_type": "code",
   "execution_count": 14,
   "metadata": {},
   "outputs": [
    {
     "name": "stdout",
     "output_type": "stream",
     "text": [
      "     Pclass  Sex   Age\n",
      "0         3    1  22.0\n",
      "1         1    0  38.0\n",
      "2         3    0  26.0\n",
      "3         1    0  35.0\n",
      "4         3    1  35.0\n",
      "..      ...  ...   ...\n",
      "709       3    0  39.0\n",
      "710       2    1  27.0\n",
      "711       1    0  19.0\n",
      "712       1    1  26.0\n",
      "713       3    1  32.0\n",
      "\n",
      "[714 rows x 3 columns]\n",
      "     Pclass  Sex   Age  imputer.Age\n",
      "0       3.0  1.0  23.8          1.0\n",
      "1       1.0  0.0  38.0          0.0\n",
      "2       3.0  0.0  26.0          0.0\n",
      "3       1.0  0.0  35.0          0.0\n",
      "4       3.0  1.0  35.0          0.0\n",
      "..      ...  ...   ...          ...\n",
      "709     3.0  0.0  39.0          0.0\n",
      "710     2.0  1.0  27.0          0.0\n",
      "711     1.0  0.0  19.0          0.0\n",
      "712     1.0  1.0  26.0          0.0\n",
      "713     3.0  1.0  32.0          0.0\n",
      "\n",
      "[714 rows x 4 columns]\n",
      "2.293011142857143\n"
     ]
    },
    {
     "name": "stderr",
     "output_type": "stream",
     "text": [
      "D:\\Anaconda\\lib\\site-packages\\pandas\\core\\indexing.py:670: SettingWithCopyWarning: \n",
      "A value is trying to be set on a copy of a slice from a DataFrame\n",
      "\n",
      "See the caveats in the documentation: https://pandas.pydata.org/pandas-docs/stable/user_guide/indexing.html#returning-a-view-versus-a-copy\n",
      "  iloc._setitem_with_indexer(indexer, value)\n"
     ]
    }
   ],
   "source": [
    "# Step1:取無遺失值的資料集\n",
    "import random\n",
    "completet_data = data.dropna()\n",
    "completet_data = completet_data.reset_index(drop=True)\n",
    "print(completet_data)\n",
    "# Step2:隨機取幾個資料點，當作遺失值\n",
    "a = random.sample(list(completet_data.index),10)\n",
    "miss_data = completet_data.copy()\n",
    "miss_data['Age'].iloc[a] = np.nan\n",
    "# Step3:以step2產生的遺失值進行補值\n",
    "k = 5\n",
    "from sklearn.impute import KNNImputer\n",
    "imputer = KNNImputer(n_neighbors=k, add_indicator = True, weights = 'uniform')\n",
    "verify_impute = pd.DataFrame(imputer.fit_transform(miss_data))\n",
    "verify_impute.rename(columns={0:'Pclass', 1:'Sex', 2:'Age',3:'imputer.Age'}, inplace = True)\n",
    "print(verify_impute)\n",
    "# 判斷 df_filled 和 data 的距離\n",
    "# Step4: 計算MSE看補值的效果。\n",
    "from sklearn.metrics import mean_squared_error\n",
    "y1 = completet_data['Age']\n",
    "y2 = verify_impute['Age'] \n",
    "MSE_h = mean_squared_error(y1,y2)\n",
    "print(MSE_h)"
   ]
  }
 ],
 "metadata": {
  "colab": {
   "name": "Day33.YOLO 細節理解 - 網路輸出的後處理_HW.ipynb",
   "provenance": []
  },
  "kernelspec": {
   "display_name": "Python 3",
   "language": "python",
   "name": "python3"
  },
  "language_info": {
   "codemirror_mode": {
    "name": "ipython",
    "version": 3
   },
   "file_extension": ".py",
   "mimetype": "text/x-python",
   "name": "python",
   "nbconvert_exporter": "python",
   "pygments_lexer": "ipython3",
   "version": "3.8.5"
  }
 },
 "nbformat": 4,
 "nbformat_minor": 1
}
